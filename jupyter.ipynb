{
 "cells": [
  {
   "cell_type": "code",
   "execution_count": null,
   "id": "882942df",
   "metadata": {},
   "outputs": [],
   "source": [
    "dat0 = pd.read_csv('sim_data.csv')\n",
    "AP1=dat0[dat0.Gender == \"F\"].plot.scatter('BMI', 'bk', c=\"Green\", label=\"F\")\n",
    "AP2=dat0[dat0.Gender == \"M\"].plot.scatter('BMI', 'bk', c=\"Red\", label=\"M\", ax=AP1)\n",
    "\n"
   ]
  },
  {
   "cell_type": "code",
   "execution_count": 19,
   "id": "31e00bc1",
   "metadata": {},
   "outputs": [],
   "source": [
    "var_list = ['a', 1, 'x']\n",
    "var_list\n",
    "list2 = ['4', 5, var_list, 6]"
   ]
  },
  {
   "cell_type": "code",
   "execution_count": 5,
   "id": "eb01e37a",
   "metadata": {},
   "outputs": [
    {
     "ename": "NameError",
     "evalue": "name 'dict1' is not defined",
     "output_type": "error",
     "traceback": [
      "\u001b[1;31m---------------------------------------------------------------------------\u001b[0m",
      "\u001b[1;31mNameError\u001b[0m                                 Traceback (most recent call last)",
      "\u001b[1;32m<ipython-input-5-bb0e7999200f>\u001b[0m in \u001b[0;36m<module>\u001b[1;34m\u001b[0m\n\u001b[1;32m----> 1\u001b[1;33m \u001b[0mdict1\u001b[0m\u001b[1;33m.\u001b[0m\u001b[0mget\u001b[0m\u001b[1;33m(\u001b[0m\u001b[1;34m\"a\"\u001b[0m\u001b[1;33m)\u001b[0m\u001b[1;33m\u001b[0m\u001b[1;33m\u001b[0m\u001b[0m\n\u001b[0m\u001b[0;32m      2\u001b[0m \u001b[0mdict1\u001b[0m\u001b[1;33m[\u001b[0m\u001b[1;34m\"f\"\u001b[0m\u001b[1;33m]\u001b[0m\u001b[1;33m\u001b[0m\u001b[1;33m\u001b[0m\u001b[0m\n\u001b[0;32m      3\u001b[0m \u001b[0mres\u001b[0m\u001b[1;33m=\u001b[0m \u001b[0mdict1\u001b[0m\u001b[1;33m.\u001b[0m\u001b[0mget\u001b[0m\u001b[1;33m(\u001b[0m\u001b[1;34m\"f\"\u001b[0m\u001b[1;33m)\u001b[0m\u001b[1;33m\u001b[0m\u001b[1;33m\u001b[0m\u001b[0m\n\u001b[0;32m      4\u001b[0m \u001b[0mres\u001b[0m\u001b[1;33m\u001b[0m\u001b[1;33m\u001b[0m\u001b[0m\n\u001b[0;32m      5\u001b[0m \u001b[0mtype\u001b[0m\u001b[1;33m(\u001b[0m\u001b[0mres\u001b[0m\u001b[1;33m)\u001b[0m\u001b[1;33m\u001b[0m\u001b[1;33m\u001b[0m\u001b[0m\n",
      "\u001b[1;31mNameError\u001b[0m: name 'dict1' is not defined"
     ]
    }
   ],
   "source": [
    "dict1.get(\"a\")\n",
    "dict1[\"f\"]\n",
    "res= dict1.get(\"f\")\n",
    "res\n",
    "type(res)\n",
    "print(type(res))\n",
    "print(type(dict1))"
   ]
  },
  {
   "cell_type": "code",
   "execution_count": null,
   "id": "a6a6bf2a",
   "metadata": {},
   "outputs": [],
   "source": []
  },
  {
   "cell_type": "code",
   "execution_count": 12,
   "id": "8bebc20e",
   "metadata": {},
   "outputs": [
    {
     "data": {
      "text/plain": [
       "{'jan': 42, 'feb': 13, 'mar': -8, 'apr': 3.5}"
      ]
     },
     "execution_count": 12,
     "metadata": {},
     "output_type": "execute_result"
    }
   ],
   "source": [
    "mynames = ['jan','feb','mar','apr'] # R: setNames(VALUE.VECTOR,NAME.VECTOR)\n",
    "values = [42,13,-8,3.5]\n",
    "zip(mynames, values)\n",
    "dict(zip(mynames, values))"
   ]
  },
  {
   "cell_type": "code",
   "execution_count": 13,
   "id": "aeef2037",
   "metadata": {},
   "outputs": [
    {
     "name": "stdout",
     "output_type": "stream",
     "text": [
      "{'jan': 42, 'feb': 13, 'mar': -8, 'apr': 3.5, 'may': 89}\n"
     ]
    }
   ],
   "source": [
    "dict2 = dict(zip(mynames, values))\n",
    "dict2.update({'may': 89})\n",
    "print(dict2)"
   ]
  },
  {
   "cell_type": "code",
   "execution_count": 20,
   "id": "36d25ea4",
   "metadata": {},
   "outputs": [
    {
     "name": "stdout",
     "output_type": "stream",
     "text": [
      "['4', 5, ['a', 1, 'x'], 6, 6]\n"
     ]
    }
   ],
   "source": [
    "list2.append(6) # R eqvuialent: list2 <- c(list2,6)\n",
    "print(list2)"
   ]
  },
  {
   "cell_type": "code",
   "execution_count": 21,
   "id": "8932a819",
   "metadata": {},
   "outputs": [
    {
     "name": "stdout",
     "output_type": "stream",
     "text": [
      "['4', 5, ['a', 1, 'x'], 6, 6] ['4', 5, ['a', 1, 'x'], 6, 6]\n"
     ]
    }
   ],
   "source": [
    "list3 = list2 # list3 is linking to list2, which is different from R.\n",
    "print(list2)\n",
    "print(list3)"
   ]
  },
  {
   "cell_type": "code",
   "execution_count": 23,
   "id": "e6280d82",
   "metadata": {},
   "outputs": [
    {
     "name": "stdout",
     "output_type": "stream",
     "text": [
      "[7, 5, ['a', 1, 'x'], 6, 6]\n",
      "[7, 5, ['a', 1, 'x'], 6, 6]\n"
     ]
    }
   ],
   "source": [
    "list3[0] = 7\n",
    "print(list2)\n",
    "print(list3)"
   ]
  },
  {
   "cell_type": "code",
   "execution_count": 27,
   "id": "5c1cd2f6",
   "metadata": {},
   "outputs": [
    {
     "name": "stdout",
     "output_type": "stream",
     "text": [
      "[7, 5, ['a', 1, 'x'], 6, 6]\n",
      "[7, 5, ['a', 1, 'x'], 6, 6]\n",
      "[111, 5, ['a', 1, 'x'], 6, 6]\n"
     ]
    }
   ],
   "source": [
    "list4 = list2.copy()\n",
    "list4[0] = 111\n",
    "print(list2)\n",
    "print(list3)\n",
    "print(list4)"
   ]
  },
  {
   "cell_type": "code",
   "execution_count": 28,
   "id": "10810d07",
   "metadata": {},
   "outputs": [
    {
     "name": "stdout",
     "output_type": "stream",
     "text": [
      "7\n",
      "5\n",
      "['a', 1, 'x']\n",
      "6\n",
      "6\n"
     ]
    }
   ],
   "source": [
    "'''loops in python'''\n",
    "for xx in list2: print(xx)"
   ]
  },
  {
   "cell_type": "code",
   "execution_count": 31,
   "id": "97b6a0dc",
   "metadata": {},
   "outputs": [
    {
     "name": "stdout",
     "output_type": "stream",
     "text": [
      "JAN\n",
      "FEB\n",
      "MAR\n",
      "APR\n"
     ]
    }
   ],
   "source": [
    "for xx in mynames: \n",
    "    print(xx.upper())    "
   ]
  },
  {
   "cell_type": "code",
   "execution_count": null,
   "id": "6d6c352f",
   "metadata": {},
   "outputs": [],
   "source": [
    "'mar'.upper() # R eqvuialent: upper case: toupper(...) , likewise, tolower(...)"
   ]
  },
  {
   "cell_type": "code",
   "execution_count": 41,
   "id": "124d3566",
   "metadata": {},
   "outputs": [
    {
     "name": "stdout",
     "output_type": "stream",
     "text": [
      "['JAN']\n",
      "['JAN', 'FEB']\n",
      "['JAN', 'FEB', 'MAR']\n",
      "['JAN', 'FEB', 'MAR', 'APR']\n"
     ]
    }
   ],
   "source": [
    "listemt = []\n",
    "for xx in mynames: \n",
    "    listemt.append(xx.upper())   \n",
    "    print(listemt)"
   ]
  },
  {
   "cell_type": "code",
   "execution_count": 38,
   "id": "288b86ed",
   "metadata": {},
   "outputs": [
    {
     "data": {
      "text/plain": [
       "['JAN', 'FEB', 'MAR', 'APR']"
      ]
     },
     "execution_count": 38,
     "metadata": {},
     "output_type": "execute_result"
    }
   ],
   "source": [
    "[xx.upper() for xx in mynames] # without loop"
   ]
  },
  {
   "cell_type": "code",
   "execution_count": 39,
   "id": "0c03ef5f",
   "metadata": {},
   "outputs": [
    {
     "data": {
      "text/plain": [
       "[7, 8, 50]"
      ]
     },
     "execution_count": 39,
     "metadata": {},
     "output_type": "execute_result"
    }
   ],
   "source": [
    "[xx + 5 for xx in [2,3,45]]"
   ]
  },
  {
   "cell_type": "code",
   "execution_count": 44,
   "id": "92a517a0",
   "metadata": {},
   "outputs": [
    {
     "data": {
      "text/plain": [
       "[2, 3, 45, 2, 3, 45]"
      ]
     },
     "execution_count": 44,
     "metadata": {},
     "output_type": "execute_result"
    }
   ],
   "source": [
    "[2,3,45] + [2,3,45] "
   ]
  },
  {
   "cell_type": "code",
   "execution_count": 46,
   "id": "862fef2e",
   "metadata": {},
   "outputs": [
    {
     "data": {
      "text/plain": [
       "[3, 11, 37]"
      ]
     },
     "execution_count": 46,
     "metadata": {},
     "output_type": "execute_result"
    }
   ],
   "source": [
    "addme = lambda xx,yy: xx+yy # eqvuialent to the function part in here: sapply(FOO,function(xx) xx+3)\n",
    "map(addme,[2,3,45],[1,8,-8])\n",
    "list(map(addme,[2,3,45],[1,8,-8])) # R equivalent: c(2,3,45) + c(1,8,-8)"
   ]
  },
  {
   "cell_type": "code",
   "execution_count": 47,
   "id": "b500e20b",
   "metadata": {},
   "outputs": [
    {
     "data": {
      "text/plain": [
       "[4, 13, 40]"
      ]
     },
     "execution_count": 47,
     "metadata": {},
     "output_type": "execute_result"
    }
   ],
   "source": [
    "addme = lambda xx,yy,zz: xx+yy+zz # eqvuialent to the function part in here: sapply(FOO,function(xx) xx+3)\n",
    "map(addme,[2,3,45],[1,8,-8],[1,2,3])\n",
    "list(map(addme,[2,3,45],[1,8,-8],[1,2,3])) # R equivalnet: c(2,3,45) + c(1,8,-8)"
   ]
  },
  {
   "cell_type": "code",
   "execution_count": 51,
   "id": "4e68c669",
   "metadata": {},
   "outputs": [
    {
     "data": {
      "text/plain": [
       "[4, 13, 40]"
      ]
     },
     "execution_count": 51,
     "metadata": {},
     "output_type": "execute_result"
    }
   ],
   "source": [
    "addme = lambda xx,yy: xx+yy # eqvuialent to the function part in here: sapply(FOO,function(xx) xx+3)\n",
    "list(map(addme, list(map(addme,[2,3,45],[1,8,-8])), [1,2,3]))"
   ]
  },
  {
   "cell_type": "code",
   "execution_count": 52,
   "id": "ff8c35ed",
   "metadata": {},
   "outputs": [
    {
     "data": {
      "text/plain": [
       "[9, 10, 4]"
      ]
     },
     "execution_count": 52,
     "metadata": {},
     "output_type": "execute_result"
    }
   ],
   "source": [
    "list(map(lambda xx,yy: xx+yy,[1,2,3],[8,8,1]))"
   ]
  },
  {
   "cell_type": "code",
   "execution_count": 53,
   "id": "4cabd9a3",
   "metadata": {},
   "outputs": [
    {
     "data": {
      "text/plain": [
       "[9, 10, 11, 12]"
      ]
     },
     "execution_count": 53,
     "metadata": {},
     "output_type": "execute_result"
    }
   ],
   "source": [
    "[xx + 5 for xx in [1,2,3,4,5,6,7] if xx > 3] # R equivalent: aa <- 1:7 + 5; aa[aa>3] \n",
    "# More concise equivalent: aa <- 1:7 + 5 %>% `[`(.,.>3)"
   ]
  },
  {
   "cell_type": "code",
   "execution_count": null,
   "id": "93238ccd",
   "metadata": {},
   "outputs": [],
   "source": []
  }
 ],
 "metadata": {
  "kernelspec": {
   "display_name": "Python 3",
   "language": "python",
   "name": "python3"
  },
  "language_info": {
   "codemirror_mode": {
    "name": "ipython",
    "version": 3
   },
   "file_extension": ".py",
   "mimetype": "text/x-python",
   "name": "python",
   "nbconvert_exporter": "python",
   "pygments_lexer": "ipython3",
   "version": "3.6.13"
  }
 },
 "nbformat": 4,
 "nbformat_minor": 5
}
